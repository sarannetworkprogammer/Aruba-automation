{
  "nbformat": 4,
  "nbformat_minor": 0,
  "metadata": {
    "colab": {
      "provenance": [],
      "authorship_tag": "ABX9TyMCDn9vE5pRYHMmCM3SchyR",
      "include_colab_link": true
    },
    "kernelspec": {
      "name": "python3",
      "display_name": "Python 3"
    },
    "language_info": {
      "name": "python"
    }
  },
  "cells": [
    {
      "cell_type": "markdown",
      "metadata": {
        "id": "view-in-github",
        "colab_type": "text"
      },
      "source": [
        "<a href=\"https://colab.research.google.com/github/sarannetworkprogammer/Aruba-automation/blob/main/python_requests_module_API_call.ipynb\" target=\"_parent\"><img src=\"https://colab.research.google.com/assets/colab-badge.svg\" alt=\"Open In Colab\"/></a>"
      ]
    },
    {
      "cell_type": "code",
      "execution_count": 1,
      "metadata": {
        "id": "6EGGy8-zyv2Y"
      },
      "outputs": [],
      "source": [
        "import json\n",
        "import requests\n",
        "import urllib3 # this disables warning about self-signed certs\n",
        "\n",
        "\n"
      ]
    },
    {
      "cell_type": "code",
      "source": [
        "urllib3.disable_warnings(urllib3.exceptions.InsecureRequestWarning)\n",
        "\n",
        "url = 'https://restcountries.com/v2/all' # countries api\n",
        "response = requests.get(url)\n",
        "print(response) # response object\n",
        "print(response.status_code) # status code, success:200"
      ],
      "metadata": {
        "colab": {
          "base_uri": "https://localhost:8080/"
        },
        "id": "QZ26XnHjzElt",
        "outputId": "41c7007d-f32b-4838-fe41-5640ccab2212"
      },
      "execution_count": 2,
      "outputs": [
        {
          "output_type": "stream",
          "name": "stdout",
          "text": [
            "<Response [200]>\n",
            "200\n"
          ]
        }
      ]
    },
    {
      "cell_type": "code",
      "source": [
        "countries = response.text\n",
        "data_python=json.loads(countries) #transfer to python format"
      ],
      "metadata": {
        "id": "Bs1dunydzWsk"
      },
      "execution_count": 3,
      "outputs": []
    },
    {
      "cell_type": "code",
      "source": [
        "country = input(\"enter country name, Capitalize the first letter: \")"
      ],
      "metadata": {
        "colab": {
          "base_uri": "https://localhost:8080/"
        },
        "id": "cilWpZl0zW0z",
        "outputId": "a7a7938e-e93c-4820-ffea-372671ac1614"
      },
      "execution_count": 7,
      "outputs": [
        {
          "name": "stdout",
          "output_type": "stream",
          "text": [
            "enter country name, Capitalize the first letter: India\n"
          ]
        }
      ]
    },
    {
      "cell_type": "code",
      "source": [
        "for i in range(len(data_python)):\n",
        "  if data_python[i][\"name\"] == country:\n",
        "    print(\"It is the number \" + str(i)+ \" in the countries list\" )\n",
        "    print(\"The population is \" + str(data_python[i][\"population\"]))\n",
        "    print(data_python[i])\n",
        "    break # Force to quit from loop.\n",
        "  else:\n",
        "    i+=1\n",
        "if i == len(data_python):\n",
        "  print(\"no this country\")"
      ],
      "metadata": {
        "colab": {
          "base_uri": "https://localhost:8080/"
        },
        "id": "lAK0kthpzW7p",
        "outputId": "608c3785-4b87-4e58-9f81-b7975431b86a"
      },
      "execution_count": 5,
      "outputs": [
        {
          "output_type": "stream",
          "name": "stdout",
          "text": [
            "It is the number 104 in the countries list\n",
            "The population is 1380004385\n",
            "{'name': 'India', 'topLevelDomain': ['.in'], 'alpha2Code': 'IN', 'alpha3Code': 'IND', 'callingCodes': ['91'], 'capital': 'New Delhi', 'altSpellings': ['IN', 'Bhārat', 'Republic of India', 'Bharat Ganrajya'], 'subregion': 'Southern Asia', 'region': 'Asia', 'population': 1380004385, 'latlng': [20.0, 77.0], 'demonym': 'Indian', 'area': 3287590.0, 'gini': 35.7, 'timezones': ['UTC+05:30'], 'borders': ['AFG', 'BGD', 'BTN', 'MMR', 'CHN', 'NPL', 'PAK', 'LKA'], 'nativeName': 'भारत', 'numericCode': '356', 'flags': {'svg': 'https://flagcdn.com/in.svg', 'png': 'https://flagcdn.com/w320/in.png'}, 'currencies': [{'code': 'INR', 'name': 'Indian rupee', 'symbol': '₹'}], 'languages': [{'iso639_1': 'hi', 'iso639_2': 'hin', 'name': 'Hindi', 'nativeName': 'हिन्दी'}, {'iso639_1': 'en', 'iso639_2': 'eng', 'name': 'English', 'nativeName': 'English'}], 'translations': {'br': 'India', 'pt': 'Índia', 'nl': 'India', 'hr': 'Indija', 'fa': 'هند', 'de': 'Indien', 'es': 'India', 'fr': 'Inde', 'ja': 'インド', 'it': 'India', 'hu': 'India'}, 'flag': 'https://flagcdn.com/in.svg', 'regionalBlocs': [{'acronym': 'SAARC', 'name': 'South Asian Association for Regional Cooperation'}], 'cioc': 'IND', 'independent': True}\n"
          ]
        }
      ]
    }
  ]
}