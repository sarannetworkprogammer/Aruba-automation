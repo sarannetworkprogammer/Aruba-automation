{
  "nbformat": 4,
  "nbformat_minor": 0,
  "metadata": {
    "colab": {
      "provenance": [],
      "authorship_tag": "ABX9TyMxI/UauuKbfmo2rQrGO8rA",
      "include_colab_link": true
    },
    "kernelspec": {
      "name": "python3",
      "display_name": "Python 3"
    },
    "language_info": {
      "name": "python"
    }
  },
  "cells": [
    {
      "cell_type": "markdown",
      "metadata": {
        "id": "view-in-github",
        "colab_type": "text"
      },
      "source": [
        "<a href=\"https://colab.research.google.com/github/sarannetworkprogammer/Aruba-automation-class/blob/main/python_switch.ipynb\" target=\"_parent\"><img src=\"https://colab.research.google.com/assets/colab-badge.svg\" alt=\"Open In Colab\"/></a>"
      ]
    },
    {
      "cell_type": "code",
      "execution_count": null,
      "metadata": {
        "id": "rnqbRkbPX-iw"
      },
      "outputs": [],
      "source": [
        "!pip install pyaoscx==2.0.0"
      ]
    },
    {
      "cell_type": "code",
      "source": [
        "from pyaoscx.session import Session\n",
        "from pyaoscx.pyaoscx_factory import PyaoscxFactory\n",
        "from pyaoscx.vlan import Vlan\n",
        "from pyaoscx.interface import Interface\n",
        "from pyaoscx.static_route import StaticRoute\n",
        "from pyaoscx.vrf import Vrf\n",
        "import urllib3\n",
        "urllib3.disable_warnings()"
      ],
      "metadata": {
        "id": "Bx5IwgqpYEku"
      },
      "execution_count": null,
      "outputs": []
    },
    {
      "cell_type": "code",
      "source": [
        "version = '10.04'\n",
        "switch_ip = '10.251.14.103'\n",
        "s = Session(switch_ip, version)\n",
        "s.open('<username', 'password')"
      ],
      "metadata": {
        "id": "j7JGaWqfYH-9"
      },
      "execution_count": null,
      "outputs": []
    },
    {
      "cell_type": "code",
      "source": [
        "#APPROACH 1: OPEN GRANULATED APPROACH\n",
        "\n",
        "vlan200 = Vlan(s, 200, name=\"VLAN 200\", voice=False)\n",
        "vlan200.apply()"
      ],
      "metadata": {
        "id": "Cp981WlGYM--"
      },
      "execution_count": null,
      "outputs": []
    },
    {
      "cell_type": "code",
      "source": [
        "\n",
        "Vlan.get_all(s)"
      ],
      "metadata": {
        "id": "OqrWXXA3YUdJ"
      },
      "execution_count": null,
      "outputs": []
    },
    {
      "cell_type": "code",
      "source": [
        "print(\"VLAN voice is enabled  - {}\".format(vlan200.voice))"
      ],
      "metadata": {
        "id": "mwQ5wLDKYXpy"
      },
      "execution_count": null,
      "outputs": []
    },
    {
      "cell_type": "code",
      "source": [
        "vlan200.description = \"New description, changed via pyaoscx SDK\"\n",
        "vlan200.apply()\n",
        "print(\"VLAN 200 description {}\".format(vlan200.description))"
      ],
      "metadata": {
        "id": "S8XnG6ISYYoB"
      },
      "execution_count": null,
      "outputs": []
    },
    {
      "cell_type": "code",
      "source": [
        "vlan1 = Vlan(s, 1)\n",
        "\n",
        "\n",
        "# a GET request is called to obtain the VLAN's information.\n",
        "# The information is then added to the object as attributes.\n",
        "\n",
        "vlan1.get()\n"
      ],
      "metadata": {
        "id": "GhltPS39Yc47"
      },
      "execution_count": null,
      "outputs": []
    },
    {
      "cell_type": "code",
      "source": [
        "vlan1.voice = True\n",
        "\n",
        "# Apply changes\n",
        "changed = vlan1.apply()\n"
      ],
      "metadata": {
        "id": "7sTD1zDJYgah"
      },
      "execution_count": null,
      "outputs": []
    },
    {
      "cell_type": "code",
      "source": [
        "vlan200.voice = True\n",
        "vlan200.apply()\n",
        "print(\"Voice VLAN for vlan 200 is enabled  - {}\".format(vlan200.voice))"
      ],
      "metadata": {
        "id": "C4rVG6aDYjXU"
      },
      "execution_count": null,
      "outputs": []
    },
    {
      "cell_type": "code",
      "source": [
        "#imperative approach\n",
        "\n",
        "factory = PyaoscxFactory(s)\n",
        "\n",
        "vlan201 = factory.vlan(201, \"NAME201\")\n",
        "Vlan.get_all(s)\n",
        "s.close()\n",
        "\n"
      ],
      "metadata": {
        "id": "mmdGOL0cYltB"
      },
      "execution_count": null,
      "outputs": []
    },
    {
      "cell_type": "code",
      "source": [
        "#Import Pyaoscx configuration\n",
        "from pyaoscx.configuration import Configuration\n",
        "#Create an object of Class Configuration\n",
        "config1=Configuration(s)\n",
        "\n",
        "#get running-config by default\n",
        "Configuration.get_full_config(config1)\n",
        "\n",
        "#get startup-config\n",
        "Configuration.get_full_config(config1,”startup-config”)\n",
        "#copy running-config to checkpoint\n",
        "Configuration.create_checkpoint(config1,\"runningconfig\",\"checkpoint1_by_pyaoscx11\")\n",
        "#copy running-config to TFTP server\n",
        "Configuration.backup_configuration(config1, \"running-config\",\n",
        "output_file=\"test_config\",vrf=\"mgmt\", config_type='json',\n",
        "remote_file_tftp_path=\"tftp:<ip>/test_config\")"
      ],
      "metadata": {
        "id": "ZQbuIF4cYxPT"
      },
      "execution_count": null,
      "outputs": []
    }
  ]
}